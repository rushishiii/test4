{
  "nbformat": 4,
  "nbformat_minor": 0,
  "metadata": {
    "colab": {
      "provenance": []
    },
    "kernelspec": {
      "name": "python3",
      "display_name": "Python 3"
    },
    "language_info": {
      "name": "python"
    }
  },
  "cells": [
    {
      "cell_type": "code",
      "execution_count": null,
      "metadata": {
        "id": "jYSkkZlTOsC3"
      },
      "outputs": [],
      "source": [
        "import tensorflow\n",
        "from tensorflow.keras.preprocessing.image import load_img\n",
        "from tensorflow.keras.preprocessing.image import img_to_array\n",
        "from keras.applications.vgg16 import preprocess_input\n",
        "from keras.applications.vgg16 import decode_predictions\n",
        "from keras.applications.vgg16 import VGG16\n"
      ]
    },
    {
      "cell_type": "code",
      "source": [
        "image = load_img('castle.jpg', target_size=(224, 224))\n"
      ],
      "metadata": {
        "id": "ipZ0vDylO2p6"
      },
      "execution_count": null,
      "outputs": []
    },
    {
      "cell_type": "code",
      "source": [
        "image = img_to_array(image)\n"
      ],
      "metadata": {
        "id": "K845WiH5mcHw"
      },
      "execution_count": null,
      "outputs": []
    },
    {
      "cell_type": "code",
      "source": [
        "image = image.reshape((1, image.shape[0], image.shape[1], image.shape[2]))\n"
      ],
      "metadata": {
        "id": "kJn1JZQZmku6"
      },
      "execution_count": null,
      "outputs": []
    },
    {
      "cell_type": "code",
      "source": [
        "image = preprocess_input(image)\n"
      ],
      "metadata": {
        "id": "uyLqD5SVmoR5"
      },
      "execution_count": null,
      "outputs": []
    },
    {
      "cell_type": "code",
      "source": [
        "model = VGG16()\n"
      ],
      "metadata": {
        "colab": {
          "base_uri": "https://localhost:8080/"
        },
        "id": "HeKT5D8gmti0",
        "outputId": "1785f062-cc1b-44c8-fbcf-f101554c9f89"
      },
      "execution_count": null,
      "outputs": [
        {
          "output_type": "stream",
          "name": "stdout",
          "text": [
            "Downloading data from https://storage.googleapis.com/tensorflow/keras-applications/vgg16/vgg16_weights_tf_dim_ordering_tf_kernels.h5\n",
            "553467096/553467096 [==============================] - 7s 0us/step\n"
          ]
        }
      ]
    },
    {
      "cell_type": "code",
      "source": [
        "yhat = model.predict(image)\n"
      ],
      "metadata": {
        "colab": {
          "base_uri": "https://localhost:8080/"
        },
        "id": "Ioe5SkAcmxy7",
        "outputId": "ec9c97af-4033-4b08-bf5f-0cd633fe0acd"
      },
      "execution_count": null,
      "outputs": [
        {
          "output_type": "stream",
          "name": "stdout",
          "text": [
            "1/1 [==============================] - 2s 2s/step\n"
          ]
        }
      ]
    },
    {
      "cell_type": "code",
      "source": [
        "label = decode_predictions(yhat)\n"
      ],
      "metadata": {
        "colab": {
          "base_uri": "https://localhost:8080/"
        },
        "id": "3of5pqxUnCuH",
        "outputId": "2934c516-98ca-4554-b7d1-deb4c43ee247"
      },
      "execution_count": null,
      "outputs": [
        {
          "output_type": "stream",
          "name": "stdout",
          "text": [
            "Downloading data from https://storage.googleapis.com/download.tensorflow.org/data/imagenet_class_index.json\n",
            "35363/35363 [==============================] - 0s 0us/step\n"
          ]
        }
      ]
    },
    {
      "cell_type": "code",
      "source": [
        "label = label[0][0]\n"
      ],
      "metadata": {
        "id": "iQID0S0bnHZB"
      },
      "execution_count": null,
      "outputs": []
    },
    {
      "cell_type": "code",
      "source": [
        "print('%s (%.2f%%)' % (label[1], label[2]*100))\n"
      ],
      "metadata": {
        "colab": {
          "base_uri": "https://localhost:8080/"
        },
        "id": "gQDwFpYNneLl",
        "outputId": "5bed5521-8226-4f63-a638-c322c3c05798"
      },
      "execution_count": null,
      "outputs": [
        {
          "output_type": "stream",
          "name": "stdout",
          "text": [
            "castle (76.47%)\n"
          ]
        }
      ]
    },
    {
      "cell_type": "code",
      "source": [
        "image = load_img('dog.jpg', target_size=(224, 224))\n"
      ],
      "metadata": {
        "id": "uaCZEiSdnh8G"
      },
      "execution_count": null,
      "outputs": []
    },
    {
      "cell_type": "code",
      "source": [
        "image = img_to_array(image)\n"
      ],
      "metadata": {
        "id": "A8AAmPeqnscN"
      },
      "execution_count": null,
      "outputs": []
    },
    {
      "cell_type": "code",
      "source": [
        "image = image.reshape((1, image.shape[0], image.shape[1], image.shape[2]))\n"
      ],
      "metadata": {
        "id": "gleMzgtQpBuF"
      },
      "execution_count": null,
      "outputs": []
    },
    {
      "cell_type": "code",
      "source": [
        "image = preprocess_input(image)\n"
      ],
      "metadata": {
        "id": "4BP_mphNpHyY"
      },
      "execution_count": null,
      "outputs": []
    },
    {
      "cell_type": "code",
      "source": [
        "model = VGG16()\n"
      ],
      "metadata": {
        "id": "RiSo9zbcpK2F"
      },
      "execution_count": null,
      "outputs": []
    },
    {
      "cell_type": "code",
      "source": [
        "yhat = model.predict(image)\n"
      ],
      "metadata": {
        "colab": {
          "base_uri": "https://localhost:8080/"
        },
        "id": "yMo94g2lpZSn",
        "outputId": "d3da1ebe-33aa-4f79-df56-3436c76943ba"
      },
      "execution_count": null,
      "outputs": [
        {
          "output_type": "stream",
          "name": "stdout",
          "text": [
            "1/1 [==============================] - 1s 914ms/step\n"
          ]
        }
      ]
    },
    {
      "cell_type": "code",
      "source": [
        "label = decode_predictions(yhat)\n"
      ],
      "metadata": {
        "id": "0tP8NTecpcM9"
      },
      "execution_count": null,
      "outputs": []
    },
    {
      "cell_type": "code",
      "source": [
        "label = label[0][0]\n"
      ],
      "metadata": {
        "id": "a5ahImUlpfKU"
      },
      "execution_count": null,
      "outputs": []
    },
    {
      "cell_type": "code",
      "source": [
        "print('%s (%.2f%%)' % (label[1], label[2]*100))\n"
      ],
      "metadata": {
        "colab": {
          "base_uri": "https://localhost:8080/"
        },
        "id": "6FVZkG9Vph0Q",
        "outputId": "04b1e7c1-a761-40a5-8489-d89a2735c549"
      },
      "execution_count": null,
      "outputs": [
        {
          "output_type": "stream",
          "name": "stdout",
          "text": [
            "golden_retriever (76.57%)\n"
          ]
        }
      ]
    },
    {
      "cell_type": "code",
      "source": [
        "image = load_img('sky.jpg', target_size=(224, 224))\n"
      ],
      "metadata": {
        "id": "OutxbWvgp4VE"
      },
      "execution_count": null,
      "outputs": []
    },
    {
      "cell_type": "code",
      "source": [
        "image = img_to_array(image)\n"
      ],
      "metadata": {
        "id": "5jk04AZFqHPz"
      },
      "execution_count": null,
      "outputs": []
    },
    {
      "cell_type": "code",
      "source": [
        "image = image.reshape((1, image.shape[0], image.shape[1], image.shape[2]))\n"
      ],
      "metadata": {
        "id": "-ZdlNYWXqsFU"
      },
      "execution_count": null,
      "outputs": []
    },
    {
      "cell_type": "code",
      "source": [
        "image = preprocess_input(image)\n"
      ],
      "metadata": {
        "id": "Rn9zscM-qv8i"
      },
      "execution_count": null,
      "outputs": []
    },
    {
      "cell_type": "code",
      "source": [
        "model = VGG16()\n"
      ],
      "metadata": {
        "id": "sRmCkxLHq5HG"
      },
      "execution_count": null,
      "outputs": []
    },
    {
      "cell_type": "code",
      "source": [
        "yhat = model.predict(image)\n"
      ],
      "metadata": {
        "colab": {
          "base_uri": "https://localhost:8080/"
        },
        "id": "WbWktNJVq7Wu",
        "outputId": "9014d4a2-9dff-467a-e2b7-8919cb4c165c"
      },
      "execution_count": null,
      "outputs": [
        {
          "output_type": "stream",
          "name": "stdout",
          "text": [
            "1/1 [==============================] - 1s 753ms/step\n"
          ]
        }
      ]
    },
    {
      "cell_type": "code",
      "source": [
        "label = decode_predictions(yhat)\n"
      ],
      "metadata": {
        "id": "F3AAnMRKq9v_"
      },
      "execution_count": null,
      "outputs": []
    },
    {
      "cell_type": "code",
      "source": [
        "label = label[0][0]\n"
      ],
      "metadata": {
        "id": "nUAYlHZUrBCo"
      },
      "execution_count": null,
      "outputs": []
    },
    {
      "cell_type": "code",
      "source": [
        "print('%s (%.2f%%)' % (label[1], label[2]*100))"
      ],
      "metadata": {
        "colab": {
          "base_uri": "https://localhost:8080/"
        },
        "id": "Q5V_HM5BrDhl",
        "outputId": "2db41aff-134f-47ea-9977-68bd0eee8419"
      },
      "execution_count": null,
      "outputs": [
        {
          "output_type": "stream",
          "name": "stdout",
          "text": [
            "valley (75.39%)\n"
          ]
        }
      ]
    },
    {
      "cell_type": "code",
      "source": [],
      "metadata": {
        "id": "37IFl6L9rK4n"
      },
      "execution_count": null,
      "outputs": []
    }
  ]
}