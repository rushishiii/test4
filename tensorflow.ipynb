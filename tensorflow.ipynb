{
  "nbformat": 4,
  "nbformat_minor": 0,
  "metadata": {
    "colab": {
      "provenance": []
    },
    "kernelspec": {
      "name": "python3",
      "display_name": "Python 3"
    },
    "language_info": {
      "name": "python"
    }
  },
  "cells": [
    {
      "cell_type": "code",
      "execution_count": null,
      "metadata": {
        "id": "1XRQgidoMuCl"
      },
      "outputs": [],
      "source": [
        "import tensorflow as tf"
      ]
    },
    {
      "cell_type": "code",
      "source": [
        "print(tf.__version__)"
      ],
      "metadata": {
        "colab": {
          "base_uri": "https://localhost:8080/"
        },
        "id": "i_24xmrpMxJ6",
        "outputId": "e97be1fb-6975-4de3-b82a-8ceb4528d774"
      },
      "execution_count": null,
      "outputs": [
        {
          "output_type": "stream",
          "name": "stdout",
          "text": [
            "2.12.0\n"
          ]
        }
      ]
    },
    {
      "cell_type": "markdown",
      "source": [
        "First create a scalar using tf.constants"
      ],
      "metadata": {
        "id": "Nm36DtFvNBGs"
      }
    },
    {
      "cell_type": "code",
      "source": [
        "scalar = tf.constant(7)"
      ],
      "metadata": {
        "id": "fVB9TtJCNMFZ"
      },
      "execution_count": null,
      "outputs": []
    },
    {
      "cell_type": "code",
      "source": [
        "print(scalar)"
      ],
      "metadata": {
        "colab": {
          "base_uri": "https://localhost:8080/"
        },
        "id": "FxW7vKspNRFP",
        "outputId": "4e345b78-7f34-43a9-9f74-e1e920c1bbd7"
      },
      "execution_count": null,
      "outputs": [
        {
          "output_type": "stream",
          "name": "stdout",
          "text": [
            "tf.Tensor(7, shape=(), dtype=int32)\n"
          ]
        }
      ]
    },
    {
      "cell_type": "code",
      "source": [
        "print(scalar.ndim)"
      ],
      "metadata": {
        "colab": {
          "base_uri": "https://localhost:8080/"
        },
        "id": "FOVTBNywNVAU",
        "outputId": "b760cd91-c9f0-4af0-a87c-7ecfe5ab2655"
      },
      "execution_count": null,
      "outputs": [
        {
          "output_type": "stream",
          "name": "stdout",
          "text": [
            "0\n"
          ]
        }
      ]
    },
    {
      "cell_type": "markdown",
      "source": [
        "create vector"
      ],
      "metadata": {
        "id": "IFKyWfX-NnGn"
      }
    },
    {
      "cell_type": "code",
      "source": [
        "vector = tf.constant([10,10])\n",
        "print(vector)\n",
        "print(vector.ndim)"
      ],
      "metadata": {
        "colab": {
          "base_uri": "https://localhost:8080/"
        },
        "id": "sz3mJG60NtuL",
        "outputId": "a214b688-f456-445c-b255-20af48f08e42"
      },
      "execution_count": null,
      "outputs": [
        {
          "output_type": "stream",
          "name": "stdout",
          "text": [
            "tf.Tensor([10 10], shape=(2,), dtype=int32)\n",
            "1\n"
          ]
        }
      ]
    },
    {
      "cell_type": "markdown",
      "source": [
        "Creating Matrix"
      ],
      "metadata": {
        "id": "MS4KbdYPOAB7"
      }
    },
    {
      "cell_type": "code",
      "source": [
        "matrix = tf.constant([\n",
        "    [10,11],\n",
        "    [12,13]\n",
        "])\n",
        "print(matrix)\n",
        "print(matrix.ndim)"
      ],
      "metadata": {
        "colab": {
          "base_uri": "https://localhost:8080/"
        },
        "id": "Okr7cHbhOFeV",
        "outputId": "92290344-277d-4237-fbdd-78e1deef273e"
      },
      "execution_count": null,
      "outputs": [
        {
          "output_type": "stream",
          "name": "stdout",
          "text": [
            "tf.Tensor(\n",
            "[[10 11]\n",
            " [12 13]], shape=(2, 2), dtype=int32)\n",
            "2\n"
          ]
        }
      ]
    },
    {
      "cell_type": "markdown",
      "source": [
        "Simple calculations using tensor"
      ],
      "metadata": {
        "id": "jxjboqN7Oac9"
      }
    },
    {
      "cell_type": "code",
      "source": [
        "basic_tensor = tf.constant([[10,11],[12,13]])\n",
        "print(basic_tensor)"
      ],
      "metadata": {
        "colab": {
          "base_uri": "https://localhost:8080/"
        },
        "id": "HTl1r7A_Ohww",
        "outputId": "2b65bd26-5d52-44cc-b3f0-243497c2a4de"
      },
      "execution_count": null,
      "outputs": [
        {
          "output_type": "stream",
          "name": "stdout",
          "text": [
            "tf.Tensor(\n",
            "[[10 11]\n",
            " [12 13]], shape=(2, 2), dtype=int32)\n"
          ]
        }
      ]
    },
    {
      "cell_type": "markdown",
      "source": [
        "we can add, substarct,multiply and dvide every vale in a tensor using the basic operators"
      ],
      "metadata": {
        "id": "kmQNGpfOO0VQ"
      }
    },
    {
      "cell_type": "code",
      "source": [
        "print(basic_tensor + 10)"
      ],
      "metadata": {
        "colab": {
          "base_uri": "https://localhost:8080/"
        },
        "id": "V6130KsCO-9q",
        "outputId": "e7068e5d-0dc5-4f5d-e27d-3623b893192d"
      },
      "execution_count": null,
      "outputs": [
        {
          "output_type": "stream",
          "name": "stdout",
          "text": [
            "tf.Tensor(\n",
            "[[20 21]\n",
            " [22 23]], shape=(2, 2), dtype=int32)\n"
          ]
        }
      ]
    },
    {
      "cell_type": "code",
      "source": [
        "print(basic_tensor - 10)"
      ],
      "metadata": {
        "colab": {
          "base_uri": "https://localhost:8080/"
        },
        "id": "77PIWFdyPKZi",
        "outputId": "74b05379-3267-4273-8828-61773d07400d"
      },
      "execution_count": null,
      "outputs": [
        {
          "output_type": "stream",
          "name": "stdout",
          "text": [
            "tf.Tensor(\n",
            "[[0 1]\n",
            " [2 3]], shape=(2, 2), dtype=int32)\n"
          ]
        }
      ]
    },
    {
      "cell_type": "code",
      "source": [
        "print(basic_tensor * 10)"
      ],
      "metadata": {
        "colab": {
          "base_uri": "https://localhost:8080/"
        },
        "id": "q7KZMbHGPP-X",
        "outputId": "60afdcdf-2843-400b-cff9-6f23e1581b70"
      },
      "execution_count": null,
      "outputs": [
        {
          "output_type": "stream",
          "name": "stdout",
          "text": [
            "tf.Tensor(\n",
            "[[100 110]\n",
            " [120 130]], shape=(2, 2), dtype=int32)\n"
          ]
        }
      ]
    },
    {
      "cell_type": "code",
      "source": [
        "print(basic_tensor / 10)"
      ],
      "metadata": {
        "colab": {
          "base_uri": "https://localhost:8080/"
        },
        "id": "k4ZN665ZPWyM",
        "outputId": "865de371-5e90-471a-d1d7-3766951a41d5"
      },
      "execution_count": null,
      "outputs": [
        {
          "output_type": "stream",
          "name": "stdout",
          "text": [
            "tf.Tensor(\n",
            "[[1.  1.1]\n",
            " [1.2 1.3]], shape=(2, 2), dtype=float64)\n"
          ]
        }
      ]
    },
    {
      "cell_type": "markdown",
      "source": [
        "Matrix Multiplication"
      ],
      "metadata": {
        "id": "W30637OYPkrV"
      }
    },
    {
      "cell_type": "code",
      "source": [
        "tensor_011 = tf.constant([[2,2],[4,4]])\n",
        "tensor_012 = tf.constant([[2,3],[4,5]])\n",
        "print(tf.matmul(tensor_011,tensor_012))"
      ],
      "metadata": {
        "colab": {
          "base_uri": "https://localhost:8080/"
        },
        "id": "r6mQO4LEPok5",
        "outputId": "b2837ee3-59ee-4c86-b4f6-ce0fde22f8b8"
      },
      "execution_count": null,
      "outputs": [
        {
          "output_type": "stream",
          "name": "stdout",
          "text": [
            "tf.Tensor(\n",
            "[[12 16]\n",
            " [24 32]], shape=(2, 2), dtype=int32)\n"
          ]
        }
      ]
    },
    {
      "cell_type": "code",
      "source": [],
      "metadata": {
        "id": "1z_rq66fQD89"
      },
      "execution_count": null,
      "outputs": []
    },
    {
      "cell_type": "markdown",
      "source": [
        "To find minimum and maximum values"
      ],
      "metadata": {
        "id": "a4IKmeitQRRo"
      }
    },
    {
      "cell_type": "code",
      "source": [
        "tensor_013 = tf.constant([\n",
        "    [1,2,3],\n",
        "    [4,5,6],\n",
        "    [7,8,9]\n",
        "],dtype='float32')\n",
        "print(tf.reduce_min(tensor_013))\n",
        "print(tf.reduce_max(tensor_013))\n",
        "print(tf.reduce_sum(tensor_013))\n"
      ],
      "metadata": {
        "colab": {
          "base_uri": "https://localhost:8080/"
        },
        "id": "wEwHYvrJQdDt",
        "outputId": "89d3e807-6932-4d13-a08a-3645e8df0a30"
      },
      "execution_count": null,
      "outputs": [
        {
          "output_type": "stream",
          "name": "stdout",
          "text": [
            "tf.Tensor(1.0, shape=(), dtype=float32)\n",
            "tf.Tensor(9.0, shape=(), dtype=float32)\n",
            "tf.Tensor(45.0, shape=(), dtype=float32)\n"
          ]
        }
      ]
    },
    {
      "cell_type": "markdown",
      "source": [
        "Find the square,square root and log of each value in a sensors"
      ],
      "metadata": {
        "id": "fKZeLkp8Rp1B"
      }
    },
    {
      "cell_type": "code",
      "source": [
        "print(tf.sqrt(tensor_013))\n",
        "print(tf.square(tensor_013))\n",
        "print(tf.math.log(tensor_013))"
      ],
      "metadata": {
        "colab": {
          "base_uri": "https://localhost:8080/"
        },
        "id": "Ax0QET7xR3Rn",
        "outputId": "c6057b71-3d08-4b3e-fcc3-1be06d86d3bb"
      },
      "execution_count": null,
      "outputs": [
        {
          "output_type": "stream",
          "name": "stdout",
          "text": [
            "tf.Tensor(\n",
            "[[1.        1.4142135 1.7320508]\n",
            " [2.        2.236068  2.4494898]\n",
            " [2.6457512 2.828427  3.       ]], shape=(3, 3), dtype=float32)\n",
            "tf.Tensor(\n",
            "[[ 1.  4.  9.]\n",
            " [16. 25. 36.]\n",
            " [49. 64. 81.]], shape=(3, 3), dtype=float32)\n",
            "tf.Tensor(\n",
            "[[0.        0.6931472 1.0986123]\n",
            " [1.3862944 1.609438  1.7917595]\n",
            " [1.9459102 2.0794415 2.1972246]], shape=(3, 3), dtype=float32)\n"
          ]
        }
      ]
    }
  ]
}