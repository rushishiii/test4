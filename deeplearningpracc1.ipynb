{
  "nbformat": 4,
  "nbformat_minor": 0,
  "metadata": {
    "colab": {
      "provenance": []
    },
    "kernelspec": {
      "name": "python3",
      "display_name": "Python 3"
    },
    "language_info": {
      "name": "python"
    }
  },
  "cells": [
    {
      "cell_type": "code",
      "execution_count": null,
      "metadata": {
        "colab": {
          "base_uri": "https://localhost:8080/"
        },
        "id": "LHaJspijQil1",
        "outputId": "d91a8318-73e6-44c9-be86-7bd1747f06f3"
      },
      "outputs": [
        {
          "output_type": "stream",
          "name": "stdout",
          "text": [
            "Collecting theano\n",
            "  Downloading Theano-1.0.5.tar.gz (2.8 MB)\n",
            "\u001b[2K     \u001b[90m━━━━━━━━━━━━━━━━━━━━━━━━━━━━━━━━━━━━━━━━\u001b[0m \u001b[32m2.8/2.8 MB\u001b[0m \u001b[31m17.5 MB/s\u001b[0m eta \u001b[36m0:00:00\u001b[0m\n",
            "\u001b[?25h  Preparing metadata (setup.py) ... \u001b[?25l\u001b[?25hdone\n",
            "Requirement already satisfied: numpy>=1.9.1 in /usr/local/lib/python3.10/dist-packages (from theano) (1.22.4)\n",
            "Requirement already satisfied: scipy>=0.14 in /usr/local/lib/python3.10/dist-packages (from theano) (1.10.1)\n",
            "Requirement already satisfied: six>=1.9.0 in /usr/local/lib/python3.10/dist-packages (from theano) (1.16.0)\n",
            "Building wheels for collected packages: theano\n",
            "  Building wheel for theano (setup.py) ... \u001b[?25l\u001b[?25hdone\n",
            "  Created wheel for theano: filename=Theano-1.0.5-py3-none-any.whl size=2668108 sha256=c3fdb85d02d749a33ebdb1876f61723c4714694a7a66f1fe942264753aa08b1f\n",
            "  Stored in directory: /root/.cache/pip/wheels/d9/e6/7d/2267d21a99e4ab8276f976f293b4ff23f50c9d809f4a216ebb\n",
            "Successfully built theano\n",
            "Installing collected packages: theano\n",
            "Successfully installed theano-1.0.5\n"
          ]
        }
      ],
      "source": [
        "pip install theano\n"
      ]
    },
    {
      "cell_type": "code",
      "source": [
        "import torch"
      ],
      "metadata": {
        "id": "kzH-JnCbQlri"
      },
      "execution_count": null,
      "outputs": []
    },
    {
      "cell_type": "code",
      "source": [
        "#creating a tensors\n",
        "t1 = torch.tensor([1,2,3,4])\n",
        "t2 = torch.tensor([[1,2,3,4],\n",
        "                   [5,6,7,8],\n",
        "                   [9,10,11,12]])"
      ],
      "metadata": {
        "id": "t15SWc0hQwEa"
      },
      "execution_count": null,
      "outputs": []
    },
    {
      "cell_type": "code",
      "source": [
        "#printing the tensors\n",
        "print(\"Tensor t1:\\n\",t1)\n",
        "print(\"\\n Tensor t2:\\n\",t2)"
      ],
      "metadata": {
        "colab": {
          "base_uri": "https://localhost:8080/"
        },
        "id": "9yMYxXgzRgBA",
        "outputId": "55aa230c-32bc-44f0-9ed8-a584f5d80914"
      },
      "execution_count": null,
      "outputs": [
        {
          "output_type": "stream",
          "name": "stdout",
          "text": [
            "Tensor t1:\n",
            " tensor([1, 2, 3, 4])\n",
            "\n",
            " Tensor t2:\n",
            " tensor([[ 1,  2,  3,  4],\n",
            "        [ 5,  6,  7,  8],\n",
            "        [ 9, 10, 11, 12]])\n"
          ]
        }
      ]
    },
    {
      "cell_type": "code",
      "source": [
        "#rank of tensors\n",
        "print(\"\\n Rank of t1:\",len(t1.shape))\n",
        "print(\"\\n Rank of t2\",len(t2.shape))\n"
      ],
      "metadata": {
        "colab": {
          "base_uri": "https://localhost:8080/"
        },
        "id": "spbGijOnRxuY",
        "outputId": "5741a1f8-7efd-4e32-f0d3-1321b71976ba"
      },
      "execution_count": null,
      "outputs": [
        {
          "output_type": "stream",
          "name": "stdout",
          "text": [
            "\n",
            " Rank of t1: 1\n",
            "\n",
            " Rank of t2 2\n"
          ]
        }
      ]
    },
    {
      "cell_type": "code",
      "source": [
        "#shape of tensors\n",
        "print(\"\\n Rank of t1:\",t1.shape)\n",
        "print(\"\\n Rank of t2\",t2.shape)"
      ],
      "metadata": {
        "colab": {
          "base_uri": "https://localhost:8080/"
        },
        "id": "RUL0eGDkSPjg",
        "outputId": "27feb121-e191-431d-bb83-e1a75259ea2c"
      },
      "execution_count": null,
      "outputs": [
        {
          "output_type": "stream",
          "name": "stdout",
          "text": [
            "\n",
            " Rank of t1: torch.Size([4])\n",
            "\n",
            " Rank of t2 torch.Size([3, 4])\n"
          ]
        }
      ]
    },
    {
      "cell_type": "code",
      "source": [
        "#importing a torch module\n",
        "import torch\n",
        "import numpy as np"
      ],
      "metadata": {
        "id": "e_kAReK2Sidz"
      },
      "execution_count": null,
      "outputs": []
    },
    {
      "cell_type": "code",
      "source": [
        "#list of values to be stored as tensor\n",
        "data1 = [1,2,3,4,5,6]\n",
        "data2 = np.array([1.5,3.4,6.8,9.3,7.0,2.8])"
      ],
      "metadata": {
        "id": "u8OBEbVZSzFs"
      },
      "execution_count": null,
      "outputs": []
    },
    {
      "cell_type": "code",
      "source": [
        "#creating tesnors and printing\n",
        "t1 = torch.tensor(data1)\n",
        "t2 = torch.tensor(data1)\n",
        "t3 = torch.as_tensor(data2)\n",
        "t4 = torch.from_numpy(data2)\n",
        "\n",
        "print(\"tensor: \",t1,\"data type:\",t1.dtype,\"\\n\")\n",
        "print(\"tensor: \",t2,\"data type:\",t2.dtype,\"\\n\")\n",
        "print(\"tensor: \",t3,\"data type:\",t3.dtype,\"\\n\")\n",
        "print(\"tensor: \",t4,\"data type:\",t4.dtype,\"\\n\")"
      ],
      "metadata": {
        "colab": {
          "base_uri": "https://localhost:8080/"
        },
        "id": "gTU_sOwhTGN4",
        "outputId": "56e0bb62-202e-43c4-bd46-4c6b4116e269"
      },
      "execution_count": null,
      "outputs": [
        {
          "output_type": "stream",
          "name": "stdout",
          "text": [
            "tensor:  tensor([1, 2, 3, 4, 5, 6]) data type: torch.int64 \n",
            "\n",
            "tensor:  tensor([1, 2, 3, 4, 5, 6]) data type: torch.int64 \n",
            "\n",
            "tensor:  tensor([1.5000, 3.4000, 6.8000, 9.3000, 7.0000, 2.8000], dtype=torch.float64) data type: torch.float64 \n",
            "\n",
            "tensor:  tensor([1.5000, 3.4000, 6.8000, 9.3000, 7.0000, 2.8000], dtype=torch.float64) data type: torch.float64 \n",
            "\n"
          ]
        }
      ]
    },
    {
      "cell_type": "code",
      "source": [
        "import torch"
      ],
      "metadata": {
        "id": "pQw0R9ZNT5XB"
      },
      "execution_count": null,
      "outputs": []
    },
    {
      "cell_type": "code",
      "source": [
        "#defining tensor\n",
        "t = torch.tensor([[1,2,3,4],[5,6,7,8],\n",
        "                  [9,10,11,12]])"
      ],
      "metadata": {
        "id": "JV26u6WMUD0C"
      },
      "execution_count": null,
      "outputs": []
    },
    {
      "cell_type": "code",
      "source": [
        "#reshaping the tensor\n",
        "print(\"Reshaping\")\n",
        "print(t.reshape(6,2))"
      ],
      "metadata": {
        "colab": {
          "base_uri": "https://localhost:8080/"
        },
        "id": "M1_NYWG1UTd8",
        "outputId": "49402ba3-3a0d-45d1-e1a1-37502dee4998"
      },
      "execution_count": null,
      "outputs": [
        {
          "output_type": "stream",
          "name": "stdout",
          "text": [
            "Reshaping\n",
            "tensor([[ 1,  2],\n",
            "        [ 3,  4],\n",
            "        [ 5,  6],\n",
            "        [ 7,  8],\n",
            "        [ 9, 10],\n",
            "        [11, 12]])\n"
          ]
        }
      ]
    },
    {
      "cell_type": "code",
      "source": [
        "#resizing the tensor\n",
        "print(\"\\n resizing\")\n",
        "print(t.resize(2,6))"
      ],
      "metadata": {
        "colab": {
          "base_uri": "https://localhost:8080/"
        },
        "id": "QOQ3-X_mUpyT",
        "outputId": "8a12faf0-c114-4be1-de79-48440e2cbc0c"
      },
      "execution_count": null,
      "outputs": [
        {
          "output_type": "stream",
          "name": "stdout",
          "text": [
            "\n",
            " resizing\n",
            "tensor([[ 1,  2,  3,  4,  5,  6],\n",
            "        [ 7,  8,  9, 10, 11, 12]])\n"
          ]
        },
        {
          "output_type": "stream",
          "name": "stderr",
          "text": [
            "/usr/local/lib/python3.10/dist-packages/torch/_tensor.py:775: UserWarning: non-inplace resize is deprecated\n",
            "  warnings.warn(\"non-inplace resize is deprecated\")\n"
          ]
        }
      ]
    },
    {
      "cell_type": "code",
      "source": [
        "#transposing the tensor\n",
        "print(\"\\n Transposing\")\n",
        "print(t.transpose(1,0))"
      ],
      "metadata": {
        "colab": {
          "base_uri": "https://localhost:8080/"
        },
        "id": "SX5Adr_yVNV7",
        "outputId": "fccb6072-e617-49d2-b917-118c0b4bb0d8"
      },
      "execution_count": null,
      "outputs": [
        {
          "output_type": "stream",
          "name": "stdout",
          "text": [
            "\n",
            " Transposing\n",
            "tensor([[ 1,  5,  9],\n",
            "        [ 2,  6, 10],\n",
            "        [ 3,  7, 11],\n",
            "        [ 4,  8, 12]])\n"
          ]
        }
      ]
    },
    {
      "cell_type": "code",
      "source": [
        "import torch"
      ],
      "metadata": {
        "id": "jKt4XC1uVbr1"
      },
      "execution_count": null,
      "outputs": []
    },
    {
      "cell_type": "code",
      "source": [
        "#defining two tensors\n",
        "t1 = torch.tensor([1,2,3,4])\n",
        "t2 = torch.tensor([5,6,7,8])\n"
      ],
      "metadata": {
        "id": "BabroiUoVwWz"
      },
      "execution_count": null,
      "outputs": []
    },
    {
      "cell_type": "code",
      "source": [
        "#adding two tensors\n",
        "print(\"tensor2 + tesnor1\")\n",
        "print(torch.add(t2,t1))"
      ],
      "metadata": {
        "colab": {
          "base_uri": "https://localhost:8080/"
        },
        "id": "gl6feWlXV_3d",
        "outputId": "1ac6fbe3-4a03-49d1-b507-39aede77f4a6"
      },
      "execution_count": null,
      "outputs": [
        {
          "output_type": "stream",
          "name": "stdout",
          "text": [
            "tensor2 + tesnor1\n",
            "tensor([ 6,  8, 10, 12])\n"
          ]
        }
      ]
    },
    {
      "cell_type": "code",
      "source": [
        "#substracting two tensors\n",
        "print(\"\\n tensor2 - tensor1\")\n",
        "print(torch.sub(t2,t1))"
      ],
      "metadata": {
        "colab": {
          "base_uri": "https://localhost:8080/"
        },
        "id": "aqBdfcwUWKHs",
        "outputId": "51a0fcd8-3f7d-4b40-efd9-63400b2ea597"
      },
      "execution_count": null,
      "outputs": [
        {
          "output_type": "stream",
          "name": "stdout",
          "text": [
            "\n",
            " tensor2 - tensor1\n",
            "tensor([4, 4, 4, 4])\n"
          ]
        }
      ]
    },
    {
      "cell_type": "code",
      "source": [
        "#multiplying two tensors\n",
        "print(\"\\n tensor2 * tensor1\")\n",
        "print(torch.mul(t1,t2))"
      ],
      "metadata": {
        "colab": {
          "base_uri": "https://localhost:8080/"
        },
        "id": "5NwMn_Y6Wnnj",
        "outputId": "8ba0a115-7cab-451e-c221-adf963217f53"
      },
      "execution_count": null,
      "outputs": [
        {
          "output_type": "stream",
          "name": "stdout",
          "text": [
            "\n",
            " tensor2 * tensor1\n",
            "tensor([ 5, 12, 21, 32])\n"
          ]
        }
      ]
    },
    {
      "cell_type": "code",
      "source": [
        "#dividing two tensors\n",
        "print(\"\\n tensor2 / tensor1\")\n",
        "print(torch.div(t2,t1))"
      ],
      "metadata": {
        "colab": {
          "base_uri": "https://localhost:8080/"
        },
        "id": "PDZJbeCQXNob",
        "outputId": "9459407c-48eb-430e-a971-97482fc92d41"
      },
      "execution_count": null,
      "outputs": [
        {
          "output_type": "stream",
          "name": "stdout",
          "text": [
            "\n",
            " tensor2 / tensor1\n",
            "tensor([5.0000, 3.0000, 2.3333, 2.0000])\n"
          ]
        }
      ]
    },
    {
      "cell_type": "code",
      "source": [],
      "metadata": {
        "id": "y-9m0S63Xdnq"
      },
      "execution_count": null,
      "outputs": []
    }
  ]
}